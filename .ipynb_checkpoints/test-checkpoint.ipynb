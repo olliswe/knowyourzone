{
 "cells": [
  {
   "cell_type": "code",
   "execution_count": 1,
   "metadata": {},
   "outputs": [],
   "source": [
    "import geopandas as gpd"
   ]
  },
  {
   "cell_type": "code",
   "execution_count": 2,
   "metadata": {},
   "outputs": [
    {
     "data": {
      "text/html": [
       "<div>\n",
       "<style scoped>\n",
       "    .dataframe tbody tr th:only-of-type {\n",
       "        vertical-align: middle;\n",
       "    }\n",
       "\n",
       "    .dataframe tbody tr th {\n",
       "        vertical-align: top;\n",
       "    }\n",
       "\n",
       "    .dataframe thead th {\n",
       "        text-align: right;\n",
       "    }\n",
       "</style>\n",
       "<table border=\"1\" class=\"dataframe\">\n",
       "  <thead>\n",
       "    <tr style=\"text-align: right;\">\n",
       "      <th></th>\n",
       "      <th>OBJECTID</th>\n",
       "      <th>Ward_No</th>\n",
       "      <th>SUM_Final_</th>\n",
       "      <th>Shape_Leng</th>\n",
       "      <th>Shape_Area</th>\n",
       "      <th>geometry</th>\n",
       "    </tr>\n",
       "  </thead>\n",
       "  <tbody>\n",
       "    <tr>\n",
       "      <th>0</th>\n",
       "      <td>1</td>\n",
       "      <td>399.0</td>\n",
       "      <td>26657.0</td>\n",
       "      <td>0.162221</td>\n",
       "      <td>0.000777</td>\n",
       "      <td>POLYGON ((-13.12927321568628 8.424786537268915...</td>\n",
       "    </tr>\n",
       "    <tr>\n",
       "      <th>1</th>\n",
       "      <td>2</td>\n",
       "      <td>400.0</td>\n",
       "      <td>17767.0</td>\n",
       "      <td>0.101702</td>\n",
       "      <td>0.000311</td>\n",
       "      <td>POLYGON ((-13.15633930821247 8.430551466776819...</td>\n",
       "    </tr>\n",
       "    <tr>\n",
       "      <th>2</th>\n",
       "      <td>3</td>\n",
       "      <td>401.0</td>\n",
       "      <td>22066.0</td>\n",
       "      <td>0.066081</td>\n",
       "      <td>0.000097</td>\n",
       "      <td>POLYGON ((-13.16201383517028 8.436107359666948...</td>\n",
       "    </tr>\n",
       "    <tr>\n",
       "      <th>3</th>\n",
       "      <td>4</td>\n",
       "      <td>402.0</td>\n",
       "      <td>20759.0</td>\n",
       "      <td>0.068600</td>\n",
       "      <td>0.000146</td>\n",
       "      <td>POLYGON ((-13.15164962073334 8.440691142981905...</td>\n",
       "    </tr>\n",
       "    <tr>\n",
       "      <th>4</th>\n",
       "      <td>5</td>\n",
       "      <td>403.0</td>\n",
       "      <td>22048.0</td>\n",
       "      <td>0.168712</td>\n",
       "      <td>0.000774</td>\n",
       "      <td>(POLYGON ((-13.1598808474231 8.454114912173509...</td>\n",
       "    </tr>\n",
       "  </tbody>\n",
       "</table>\n",
       "</div>"
      ],
      "text/plain": [
       "   OBJECTID  Ward_No  SUM_Final_  Shape_Leng  Shape_Area  \\\n",
       "0         1    399.0     26657.0    0.162221    0.000777   \n",
       "1         2    400.0     17767.0    0.101702    0.000311   \n",
       "2         3    401.0     22066.0    0.066081    0.000097   \n",
       "3         4    402.0     20759.0    0.068600    0.000146   \n",
       "4         5    403.0     22048.0    0.168712    0.000774   \n",
       "\n",
       "                                            geometry  \n",
       "0  POLYGON ((-13.12927321568628 8.424786537268915...  \n",
       "1  POLYGON ((-13.15633930821247 8.430551466776819...  \n",
       "2  POLYGON ((-13.16201383517028 8.436107359666948...  \n",
       "3  POLYGON ((-13.15164962073334 8.440691142981905...  \n",
       "4  (POLYGON ((-13.1598808474231 8.454114912173509...  "
      ]
     },
     "execution_count": 2,
     "metadata": {},
     "output_type": "execute_result"
    }
   ],
   "source": [
    "gdf = gpd.read_file('FCC Ward ShapleFile/Western_Area_Urban_Wards.shp')\n",
    "gdf.head()"
   ]
  },
  {
   "cell_type": "code",
   "execution_count": 3,
   "metadata": {},
   "outputs": [
    {
     "data": {
      "text/plain": [
       "OBJECTID                                                      5\n",
       "Ward_No                                                     403\n",
       "SUM_Final_                                                22048\n",
       "Shape_Leng                                             0.168712\n",
       "Shape_Area                                          0.000773682\n",
       "geometry      (POLYGON ((-13.1598808474231 8.454114912173509...\n",
       "Name: 4, dtype: object"
      ]
     },
     "execution_count": 3,
     "metadata": {},
     "output_type": "execute_result"
    }
   ],
   "source": [
    "gdf.iloc[4,:]"
   ]
  },
  {
   "cell_type": "code",
   "execution_count": null,
   "metadata": {},
   "outputs": [],
   "source": []
  }
 ],
 "metadata": {
  "kernelspec": {
   "display_name": "Python 3",
   "language": "python",
   "name": "python3"
  },
  "language_info": {
   "codemirror_mode": {
    "name": "ipython",
    "version": 3
   },
   "file_extension": ".py",
   "mimetype": "text/x-python",
   "name": "python",
   "nbconvert_exporter": "python",
   "pygments_lexer": "ipython3",
   "version": "3.7.3"
  }
 },
 "nbformat": 4,
 "nbformat_minor": 1
}
